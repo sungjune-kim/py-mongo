{
 "cells": [
  {
   "cell_type": "code",
   "execution_count": 2,
   "id": "c3c56915-12d3-4dc7-a841-ad50475b55a8",
   "metadata": {},
   "outputs": [
    {
     "name": "stdout",
     "output_type": "stream",
     "text": [
      "Collecting pymongo\n",
      "  Downloading pymongo-3.12.0-cp38-cp38-manylinux_2_17_x86_64.manylinux2014_x86_64.whl (545 kB)\n",
      "\u001b[K     |████████████████████████████████| 545 kB 1.5 MB/s eta 0:00:01\n",
      "\u001b[?25hInstalling collected packages: pymongo\n",
      "Successfully installed pymongo-3.12.0\n",
      "Note: you may need to restart the kernel to use updated packages.\n"
     ]
    }
   ],
   "source": [
    "pip install pymongo"
   ]
  },
  {
   "cell_type": "code",
   "execution_count": 1,
   "id": "23aec305-f865-45d8-ab99-895fa600707e",
   "metadata": {},
   "outputs": [],
   "source": [
    "from pymongo import MongoClient\n",
    "client = MongoClient('localhost', 27017)"
   ]
  },
  {
   "cell_type": "code",
   "execution_count": 2,
   "id": "f646cf09-d3ec-4279-9364-bd1a73acabf1",
   "metadata": {},
   "outputs": [],
   "source": [
    "db = client.library"
   ]
  },
  {
   "cell_type": "code",
   "execution_count": 3,
   "id": "769784e2-1067-4693-a60f-854ff2112346",
   "metadata": {},
   "outputs": [],
   "source": [
    "bookinfo = db['bookinfo']"
   ]
  },
  {
   "cell_type": "code",
   "execution_count": 4,
   "id": "fa039127-915a-42ae-8e45-88fbbc4e11b3",
   "metadata": {},
   "outputs": [
    {
     "data": {
      "text/plain": [
       "<pymongo.results.InsertManyResult at 0x7fe6f13517c0>"
      ]
     },
     "execution_count": 4,
     "metadata": {},
     "output_type": "execute_result"
    }
   ],
   "source": [
    "bookinfo.insert_many([\n",
    "\t{\"title\":\"Harry Potter\",\n",
    "\t\"genre\":\"fantasy\",\n",
    "\t\"location\":\"4C\"},\n",
    "\t{\"title\":\"Interstellar\",\n",
    "\t\"genre\":\"science fiction\",\n",
    "\t\"location\":\"6H\"},\n",
    "\t{\"title\":\"Deep Learning\",\n",
    "\t\"genre\":\"education\",\n",
    "\t\"location\":\"2G\"}\n",
    "])"
   ]
  },
  {
   "cell_type": "code",
   "execution_count": 5,
   "id": "31fcdc20-e6d3-4b45-8dca-099c2cd7449e",
   "metadata": {},
   "outputs": [
    {
     "name": "stdout",
     "output_type": "stream",
     "text": [
      "{'_id': ObjectId('611b256dbfbe2beb0a702336'), 'title': 'Harry Potter', 'genre': 'fantasy', 'location': '4C'}\n",
      "{'_id': ObjectId('611b256dbfbe2beb0a702337'), 'title': 'Interstellar', 'genre': 'science fiction', 'location': '6H'}\n",
      "{'_id': ObjectId('611b256dbfbe2beb0a702338'), 'title': 'Deep Learning', 'genre': 'education', 'location': '2G'}\n"
     ]
    }
   ],
   "source": [
    "for item in bookinfo.find():\n",
    "    print(item)"
   ]
  },
  {
   "cell_type": "code",
   "execution_count": 6,
   "id": "d2636b75-f832-4ce5-bc55-edc6974bd1a0",
   "metadata": {},
   "outputs": [
    {
     "data": {
      "text/plain": [
       "<pymongo.results.InsertOneResult at 0x7fe6f09388c0>"
      ]
     },
     "execution_count": 6,
     "metadata": {},
     "output_type": "execute_result"
    }
   ],
   "source": [
    "bookinfo.insert_one({'title':'Quantum Phyisics','genre':'education','location':'5J'})"
   ]
  },
  {
   "cell_type": "code",
   "execution_count": 7,
   "id": "515c4053-8e24-40f8-9250-03f83ccc3535",
   "metadata": {},
   "outputs": [
    {
     "name": "stdout",
     "output_type": "stream",
     "text": [
      "{'_id': ObjectId('611b256dbfbe2beb0a702336'), 'title': 'Harry Potter', 'genre': 'fantasy', 'location': '4C'}\n",
      "{'_id': ObjectId('611b256dbfbe2beb0a702337'), 'title': 'Interstellar', 'genre': 'science fiction', 'location': '6H'}\n",
      "{'_id': ObjectId('611b256dbfbe2beb0a702338'), 'title': 'Deep Learning', 'genre': 'education', 'location': '2G'}\n",
      "{'_id': ObjectId('611b25eabfbe2beb0a702339'), 'title': 'Quantum Phyisics', 'genre': 'education', 'location': '5J'}\n"
     ]
    }
   ],
   "source": [
    "for item in bookinfo.find():\n",
    "    print(item)"
   ]
  },
  {
   "cell_type": "code",
   "execution_count": 10,
   "id": "fc341da5-46ef-457b-b96d-376ca9fb68ae",
   "metadata": {},
   "outputs": [
    {
     "data": {
      "text/plain": [
       "<pymongo.results.UpdateResult at 0x7fe6f14b6640>"
      ]
     },
     "execution_count": 10,
     "metadata": {},
     "output_type": "execute_result"
    }
   ],
   "source": [
    "bookinfo.update_one({'title':'Quantum Phyisics'},{\"$set\":{'title':'Quantum Physics'}})"
   ]
  },
  {
   "cell_type": "code",
   "execution_count": 11,
   "id": "c552391b-0361-421c-97e7-2384e90544c0",
   "metadata": {},
   "outputs": [
    {
     "name": "stdout",
     "output_type": "stream",
     "text": [
      "{'_id': ObjectId('611b256dbfbe2beb0a702336'), 'title': 'Harry Potter', 'genre': 'fantasy', 'location': '4C'}\n",
      "{'_id': ObjectId('611b256dbfbe2beb0a702337'), 'title': 'Interstellar', 'genre': 'science fiction', 'location': '6H'}\n",
      "{'_id': ObjectId('611b256dbfbe2beb0a702338'), 'title': 'Deep Learning', 'genre': 'education', 'location': '2G'}\n",
      "{'_id': ObjectId('611b25eabfbe2beb0a702339'), 'title': 'Quantum Physics', 'genre': 'education', 'location': '5J'}\n"
     ]
    }
   ],
   "source": [
    "for item in bookinfo.find():\n",
    "    print(item)"
   ]
  },
  {
   "cell_type": "code",
   "execution_count": 12,
   "id": "a3814928-3df5-4e3a-9f2a-4e31adf5d7b6",
   "metadata": {},
   "outputs": [
    {
     "data": {
      "text/plain": [
       "<pymongo.results.DeleteResult at 0x7fe6f090dfc0>"
      ]
     },
     "execution_count": 12,
     "metadata": {},
     "output_type": "execute_result"
    }
   ],
   "source": [
    "bookinfo.delete_one({'location':'5J'})"
   ]
  },
  {
   "cell_type": "code",
   "execution_count": 13,
   "id": "e5379ee3-3ffe-4dd8-a715-0c0f3fc65829",
   "metadata": {},
   "outputs": [
    {
     "name": "stdout",
     "output_type": "stream",
     "text": [
      "{'_id': ObjectId('611b256dbfbe2beb0a702336'), 'title': 'Harry Potter', 'genre': 'fantasy', 'location': '4C'}\n",
      "{'_id': ObjectId('611b256dbfbe2beb0a702337'), 'title': 'Interstellar', 'genre': 'science fiction', 'location': '6H'}\n",
      "{'_id': ObjectId('611b256dbfbe2beb0a702338'), 'title': 'Deep Learning', 'genre': 'education', 'location': '2G'}\n"
     ]
    }
   ],
   "source": [
    "for item in bookinfo.find():\n",
    "    print(item)"
   ]
  },
  {
   "cell_type": "code",
   "execution_count": 28,
   "id": "d4a295cf-786d-4b1d-b987-c430e7022818",
   "metadata": {},
   "outputs": [
    {
     "data": {
      "text/plain": [
       "<pymongo.results.InsertOneResult at 0x7fe6c0939dc0>"
      ]
     },
     "execution_count": 28,
     "metadata": {},
     "output_type": "execute_result"
    }
   ],
   "source": [
    "bookinfo.insert_one({'title':'Cosmology','genre':'science','location':'3G'})"
   ]
  },
  {
   "cell_type": "markdown",
   "id": "6a0666f4-3938-4948-a23a-f81f0554277d",
   "metadata": {},
   "source": [
    "----------------------------"
   ]
  },
  {
   "cell_type": "code",
   "execution_count": 29,
   "id": "a655f892-62a0-4e53-aaa3-e93abbbbea96",
   "metadata": {},
   "outputs": [],
   "source": [
    "import pandas as pd\n",
    "\n",
    "book_info = pd.DataFrame(list(bookinfo.find()))"
   ]
  },
  {
   "cell_type": "code",
   "execution_count": 30,
   "id": "076817b9-82f8-4223-b09b-cf782993debe",
   "metadata": {},
   "outputs": [
    {
     "data": {
      "text/html": [
       "<div>\n",
       "<style scoped>\n",
       "    .dataframe tbody tr th:only-of-type {\n",
       "        vertical-align: middle;\n",
       "    }\n",
       "\n",
       "    .dataframe tbody tr th {\n",
       "        vertical-align: top;\n",
       "    }\n",
       "\n",
       "    .dataframe thead th {\n",
       "        text-align: right;\n",
       "    }\n",
       "</style>\n",
       "<table border=\"1\" class=\"dataframe\">\n",
       "  <thead>\n",
       "    <tr style=\"text-align: right;\">\n",
       "      <th></th>\n",
       "      <th>_id</th>\n",
       "      <th>title</th>\n",
       "      <th>genre</th>\n",
       "      <th>location</th>\n",
       "    </tr>\n",
       "  </thead>\n",
       "  <tbody>\n",
       "    <tr>\n",
       "      <th>0</th>\n",
       "      <td>611b256dbfbe2beb0a702336</td>\n",
       "      <td>Harry Potter</td>\n",
       "      <td>fantasy</td>\n",
       "      <td>4C</td>\n",
       "    </tr>\n",
       "    <tr>\n",
       "      <th>1</th>\n",
       "      <td>611b256dbfbe2beb0a702337</td>\n",
       "      <td>Interstellar</td>\n",
       "      <td>science fiction</td>\n",
       "      <td>6H</td>\n",
       "    </tr>\n",
       "    <tr>\n",
       "      <th>2</th>\n",
       "      <td>611b256dbfbe2beb0a702338</td>\n",
       "      <td>Deep Learning</td>\n",
       "      <td>education</td>\n",
       "      <td>2G</td>\n",
       "    </tr>\n",
       "    <tr>\n",
       "      <th>3</th>\n",
       "      <td>611b2e85bfbe2beb0a70233a</td>\n",
       "      <td>Cosmology</td>\n",
       "      <td>science</td>\n",
       "      <td>3G</td>\n",
       "    </tr>\n",
       "  </tbody>\n",
       "</table>\n",
       "</div>"
      ],
      "text/plain": [
       "                        _id          title            genre location\n",
       "0  611b256dbfbe2beb0a702336   Harry Potter          fantasy       4C\n",
       "1  611b256dbfbe2beb0a702337   Interstellar  science fiction       6H\n",
       "2  611b256dbfbe2beb0a702338  Deep Learning        education       2G\n",
       "3  611b2e85bfbe2beb0a70233a      Cosmology          science       3G"
      ]
     },
     "execution_count": 30,
     "metadata": {},
     "output_type": "execute_result"
    }
   ],
   "source": [
    "book_info"
   ]
  },
  {
   "cell_type": "code",
   "execution_count": null,
   "id": "a56d05d5-b1de-4d07-9276-448cb5c068c5",
   "metadata": {},
   "outputs": [],
   "source": []
  }
 ],
 "metadata": {
  "kernelspec": {
   "display_name": "Python 3",
   "language": "python",
   "name": "python3"
  },
  "language_info": {
   "codemirror_mode": {
    "name": "ipython",
    "version": 3
   },
   "file_extension": ".py",
   "mimetype": "text/x-python",
   "name": "python",
   "nbconvert_exporter": "python",
   "pygments_lexer": "ipython3",
   "version": "3.8.8"
  }
 },
 "nbformat": 4,
 "nbformat_minor": 5
}
