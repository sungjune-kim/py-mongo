{
 "cells": [
  {
   "cell_type": "code",
   "execution_count": 1,
   "metadata": {},
   "outputs": [],
   "source": [
    "from pymongo import MongoClient\n",
    "client = MongoClient('localhost',27017)"
   ]
  },
  {
   "cell_type": "code",
   "execution_count": 4,
   "metadata": {},
   "outputs": [
    {
     "name": "stdout",
     "output_type": "stream",
     "text": [
      "['Human_Resource', 'admin', 'config', 'flights', 'local', 'shop']\n"
     ]
    }
   ],
   "source": [
    "print(client.list_database_names())"
   ]
  },
  {
   "cell_type": "code",
   "execution_count": 8,
   "metadata": {},
   "outputs": [],
   "source": [
    "db = client.flights"
   ]
  },
  {
   "cell_type": "markdown",
   "metadata": {},
   "source": [
    "------------------------------\n",
    "## Read, Find"
   ]
  },
  {
   "cell_type": "code",
   "execution_count": 10,
   "metadata": {},
   "outputs": [
    {
     "name": "stdout",
     "output_type": "stream",
     "text": [
      "{'_id': ObjectId('611a4fe4d7d6a88396842b75'), 'name': 'Max Schwarzmueller', 'age': 29.0}\n",
      "{'_id': ObjectId('611a4fe4d7d6a88396842b76'), 'name': 'Manu Lorenz', 'age': 30.0}\n",
      "{'_id': ObjectId('611a4fe4d7d6a88396842b77'), 'name': 'Chris Hayton', 'age': 35.0}\n",
      "{'_id': ObjectId('611a4fe4d7d6a88396842b78'), 'name': 'Sandeep Kumar', 'age': 28.0}\n",
      "{'_id': ObjectId('611a4fe4d7d6a88396842b79'), 'name': 'Maria Jones', 'age': 30.0}\n",
      "{'_id': ObjectId('611a4fe4d7d6a88396842b7a'), 'name': 'Alexandra Maier', 'age': 27.0}\n",
      "{'_id': ObjectId('611a4fe4d7d6a88396842b7b'), 'name': 'Dr. Phil Evans', 'age': 47.0}\n",
      "{'_id': ObjectId('611a4fe4d7d6a88396842b7c'), 'name': 'Sandra Brugge', 'age': 33.0}\n",
      "{'_id': ObjectId('611a4fe4d7d6a88396842b7d'), 'name': 'Elisabeth Mayr', 'age': 29.0}\n",
      "{'_id': ObjectId('611a4fe4d7d6a88396842b7e'), 'name': 'Frank Cube', 'age': 41.0}\n",
      "{'_id': ObjectId('611a4fe4d7d6a88396842b7f'), 'name': 'Karandeep Alun', 'age': 48.0}\n",
      "{'_id': ObjectId('611a4fe4d7d6a88396842b80'), 'name': 'Michaela Drayer', 'age': 39.0}\n",
      "{'_id': ObjectId('611a4fe4d7d6a88396842b81'), 'name': 'Bernd Hoftstadt', 'age': 22.0}\n",
      "{'_id': ObjectId('611a4fe4d7d6a88396842b82'), 'name': 'Scott Tolib', 'age': 44.0}\n",
      "{'_id': ObjectId('611a4fe4d7d6a88396842b83'), 'name': 'Freddy Melver', 'age': 41.0}\n",
      "{'_id': ObjectId('611a4fe4d7d6a88396842b84'), 'name': 'Alexis Bohed', 'age': 35.0}\n",
      "{'_id': ObjectId('611a4fe4d7d6a88396842b85'), 'name': 'Melanie Palace', 'age': 27.0}\n",
      "{'_id': ObjectId('611a4fe4d7d6a88396842b86'), 'name': 'Armin Glutch', 'age': 35.0}\n",
      "{'_id': ObjectId('611a4fe4d7d6a88396842b87'), 'name': 'Klaus Arber', 'age': 53.0}\n",
      "{'_id': ObjectId('611a4fe4d7d6a88396842b88'), 'name': 'Albert Twostone', 'age': 68.0}\n",
      "{'_id': ObjectId('611a4fe4d7d6a88396842b89'), 'name': 'Gordon Black', 'age': 38.0}\n"
     ]
    }
   ],
   "source": [
    "for person in db.passengers.find():\n",
    "    print(person)"
   ]
  },
  {
   "cell_type": "code",
   "execution_count": 12,
   "metadata": {},
   "outputs": [
    {
     "data": {
      "text/plain": [
       "{'_id': ObjectId('611a4fe4d7d6a88396842b76'),\n",
       " 'name': 'Manu Lorenz',\n",
       " 'age': 30.0}"
      ]
     },
     "execution_count": 12,
     "metadata": {},
     "output_type": "execute_result"
    }
   ],
   "source": [
    "db.passengers.find_one({\"age\":30.0})"
   ]
  },
  {
   "cell_type": "markdown",
   "metadata": {},
   "source": [
    "-----------------------\n",
    "## Create, Insert"
   ]
  },
  {
   "cell_type": "code",
   "execution_count": 20,
   "metadata": {},
   "outputs": [],
   "source": [
    "restaurants = db['restaurants']"
   ]
  },
  {
   "cell_type": "code",
   "execution_count": 21,
   "metadata": {},
   "outputs": [
    {
     "data": {
      "text/plain": [
       "<pymongo.results.InsertOneResult at 0x7f8cc14bf600>"
      ]
     },
     "execution_count": 21,
     "metadata": {},
     "output_type": "execute_result"
    }
   ],
   "source": [
    "restaurants.insert_one({\"name\":\"Burger King\", \"category\":\"fast food\"})"
   ]
  },
  {
   "cell_type": "code",
   "execution_count": 22,
   "metadata": {},
   "outputs": [
    {
     "name": "stdout",
     "output_type": "stream",
     "text": [
      "{'_id': ObjectId('611a563f07adf7389877b0dc'), 'name': 'Burger King', 'category': 'fast food'}\n",
      "{'_id': ObjectId('611a56d107adf7389877b0dd'), 'name': 'Burger King', 'category': 'fast food'}\n"
     ]
    }
   ],
   "source": [
    "for i in restaurants.find():\n",
    "    print(i)"
   ]
  },
  {
   "cell_type": "code",
   "execution_count": 28,
   "metadata": {},
   "outputs": [],
   "source": [
    "restaurant_list = [{\"name\":\"Pizza Hut\",\"category\":\"fast food\"},\n",
    "                  {\"name\":\"Nirvana\",\"category\":\"family restaurant\"}]"
   ]
  },
  {
   "cell_type": "code",
   "execution_count": 29,
   "metadata": {},
   "outputs": [
    {
     "data": {
      "text/plain": [
       "<pymongo.results.InsertManyResult at 0x7f8cc168b080>"
      ]
     },
     "execution_count": 29,
     "metadata": {},
     "output_type": "execute_result"
    }
   ],
   "source": [
    "restaurants.insert_many(restaurant_list)"
   ]
  },
  {
   "cell_type": "code",
   "execution_count": 30,
   "metadata": {},
   "outputs": [
    {
     "name": "stdout",
     "output_type": "stream",
     "text": [
      "{'_id': ObjectId('611a563f07adf7389877b0dc'), 'name': 'Burger King', 'category': 'fast food'}\n",
      "{'_id': ObjectId('611a56d107adf7389877b0dd'), 'name': 'Burger King', 'category': 'fast food'}\n",
      "{'_id': ObjectId('611a575a07adf7389877b0de'), 'name': 'Nirvana', 'category': 'family restaurant'}\n",
      "{'_id': ObjectId('611a578a07adf7389877b0df'), 'name': 'Pizza Hut', 'category': 'fast food'}\n",
      "{'_id': ObjectId('611a578a07adf7389877b0e0'), 'name': 'Nirvana', 'category': 'family restaurant'}\n"
     ]
    }
   ],
   "source": [
    "for i in restaurants.find():\n",
    "    print(i)"
   ]
  },
  {
   "cell_type": "markdown",
   "metadata": {},
   "source": [
    "-----------------------\n",
    "## Delete"
   ]
  },
  {
   "cell_type": "code",
   "execution_count": 41,
   "metadata": {},
   "outputs": [
    {
     "data": {
      "text/plain": [
       "<pymongo.results.DeleteResult at 0x7f8cc160c740>"
      ]
     },
     "execution_count": 41,
     "metadata": {},
     "output_type": "execute_result"
    }
   ],
   "source": [
    "restaurants.delete_one({\"name\":\"Burger King\"})"
   ]
  },
  {
   "cell_type": "code",
   "execution_count": 42,
   "metadata": {},
   "outputs": [
    {
     "name": "stdout",
     "output_type": "stream",
     "text": [
      "{'_id': ObjectId('611a56d107adf7389877b0dd'), 'name': 'Burger King', 'category': 'fast food'}\n",
      "{'_id': ObjectId('611a575a07adf7389877b0de'), 'name': 'Nirvana', 'category': 'family restaurant'}\n",
      "{'_id': ObjectId('611a578a07adf7389877b0df'), 'name': 'Pizza Hut', 'category': 'fast food'}\n",
      "{'_id': ObjectId('611a578a07adf7389877b0e0'), 'name': 'Nirvana', 'category': 'family restaurant'}\n"
     ]
    }
   ],
   "source": [
    "for i in restaurants.find():\n",
    "    print(i)"
   ]
  },
  {
   "cell_type": "code",
   "execution_count": 43,
   "metadata": {},
   "outputs": [
    {
     "data": {
      "text/plain": [
       "<pymongo.results.DeleteResult at 0x7f8cc1705f80>"
      ]
     },
     "execution_count": 43,
     "metadata": {},
     "output_type": "execute_result"
    }
   ],
   "source": [
    "restaurants.delete_many({})"
   ]
  },
  {
   "cell_type": "code",
   "execution_count": 44,
   "metadata": {},
   "outputs": [],
   "source": [
    "for i in restaurants.find():\n",
    "    print(i)"
   ]
  },
  {
   "cell_type": "markdown",
   "metadata": {},
   "source": [
    "----------------------\n",
    "## Update"
   ]
  },
  {
   "cell_type": "code",
   "execution_count": 46,
   "metadata": {},
   "outputs": [
    {
     "data": {
      "text/plain": [
       "<pymongo.results.InsertManyResult at 0x7f8ca0c7fc00>"
      ]
     },
     "execution_count": 46,
     "metadata": {},
     "output_type": "execute_result"
    }
   ],
   "source": [
    "restaurants.insert_many(restaurant_list)"
   ]
  },
  {
   "cell_type": "code",
   "execution_count": 47,
   "metadata": {},
   "outputs": [
    {
     "name": "stdout",
     "output_type": "stream",
     "text": [
      "{'_id': ObjectId('611a578a07adf7389877b0df'), 'name': 'Pizza Hut', 'category': 'fast food'}\n",
      "{'_id': ObjectId('611a578a07adf7389877b0e0'), 'name': 'Nirvana', 'category': 'family restaurant'}\n"
     ]
    }
   ],
   "source": [
    "for i in restaurants.find():\n",
    "    print(i)"
   ]
  },
  {
   "cell_type": "code",
   "execution_count": 48,
   "metadata": {},
   "outputs": [
    {
     "data": {
      "text/plain": [
       "<pymongo.results.UpdateResult at 0x7f8cc16055c0>"
      ]
     },
     "execution_count": 48,
     "metadata": {},
     "output_type": "execute_result"
    }
   ],
   "source": [
    "restaurants.update_one({\"name\":\"Pizza Hut\"},{\"$set\":{\"name\":\"Burger King\"}})"
   ]
  },
  {
   "cell_type": "code",
   "execution_count": 49,
   "metadata": {},
   "outputs": [
    {
     "name": "stdout",
     "output_type": "stream",
     "text": [
      "{'_id': ObjectId('611a578a07adf7389877b0df'), 'name': 'Burger King', 'category': 'fast food'}\n",
      "{'_id': ObjectId('611a578a07adf7389877b0e0'), 'name': 'Nirvana', 'category': 'family restaurant'}\n"
     ]
    }
   ],
   "source": [
    "for i in restaurants.find():\n",
    "    print(i)"
   ]
  },
  {
   "cell_type": "code",
   "execution_count": null,
   "metadata": {},
   "outputs": [],
   "source": []
  }
 ],
 "metadata": {
  "kernelspec": {
   "display_name": "Python 3",
   "language": "python",
   "name": "python3"
  },
  "language_info": {
   "codemirror_mode": {
    "name": "ipython",
    "version": 3
   },
   "file_extension": ".py",
   "mimetype": "text/x-python",
   "name": "python",
   "nbconvert_exporter": "python",
   "pygments_lexer": "ipython3",
   "version": "3.8.8"
  }
 },
 "nbformat": 4,
 "nbformat_minor": 4
}
