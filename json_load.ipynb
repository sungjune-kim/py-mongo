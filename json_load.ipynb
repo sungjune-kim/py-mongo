{
 "cells": [
  {
   "cell_type": "markdown",
   "id": "8f765fe6-6679-46d0-8485-039a9f81b9a4",
   "metadata": {},
   "source": [
    "<ul>save JSON file in MongoDB using python</ul>\n",
    "<ul>upload database in pandas</ul>"
   ]
  },
  {
   "cell_type": "code",
   "execution_count": 1,
   "id": "32a69031-ea9d-465d-8c4d-9cdadf205099",
   "metadata": {},
   "outputs": [],
   "source": [
    "from pymongo import MongoClient\n",
    "import json\n",
    "import pandas as pd"
   ]
  },
  {
   "cell_type": "code",
   "execution_count": 3,
   "id": "80334d88-4281-4896-93cc-e05ed6924106",
   "metadata": {},
   "outputs": [],
   "source": [
    "with open('color.json') as json_file:\n",
    "    color_file = json.load(json_file)"
   ]
  },
  {
   "cell_type": "code",
   "execution_count": 4,
   "id": "1528dd2f-2c93-4849-897e-f8543d85ead5",
   "metadata": {},
   "outputs": [
    {
     "data": {
      "text/plain": [
       "[{'color': 'red', 'value': '#f00'},\n",
       " {'color': 'green', 'value': '#0f0'},\n",
       " {'color': 'blue', 'value': '#00f'},\n",
       " {'color': 'cyan', 'value': '#0ff'},\n",
       " {'color': 'magenta', 'value': '#f0f'},\n",
       " {'color': 'yellow', 'value': '#ff0'},\n",
       " {'color': 'black', 'value': '#000'}]"
      ]
     },
     "execution_count": 4,
     "metadata": {},
     "output_type": "execute_result"
    }
   ],
   "source": [
    "color_file"
   ]
  },
  {
   "cell_type": "code",
   "execution_count": 6,
   "id": "df251a0d-e613-4599-8c2a-670c83afb9ab",
   "metadata": {},
   "outputs": [],
   "source": [
    "client = MongoClient('localhost',27017)\n",
    "db = client.color"
   ]
  },
  {
   "cell_type": "code",
   "execution_count": 7,
   "id": "7f0a0482-ceac-41bc-b8ef-233d9b90ad64",
   "metadata": {},
   "outputs": [],
   "source": [
    "colorInfo = db.colorInfo"
   ]
  },
  {
   "cell_type": "code",
   "execution_count": 8,
   "id": "256279b6-333e-44ce-b952-fc6803d16ddd",
   "metadata": {},
   "outputs": [
    {
     "data": {
      "text/plain": [
       "<pymongo.results.InsertManyResult at 0x7f408d7e9c80>"
      ]
     },
     "execution_count": 8,
     "metadata": {},
     "output_type": "execute_result"
    }
   ],
   "source": [
    "colorInfo.insert_many(color_file)"
   ]
  },
  {
   "cell_type": "code",
   "execution_count": 9,
   "id": "f8b3d318-f17e-4025-b07f-7042d9f6a6a8",
   "metadata": {},
   "outputs": [
    {
     "name": "stdout",
     "output_type": "stream",
     "text": [
      "{'_id': ObjectId('611b35d1d68704776aa71468'), 'color': 'red', 'value': '#f00'}\n",
      "{'_id': ObjectId('611b35d1d68704776aa71469'), 'color': 'green', 'value': '#0f0'}\n",
      "{'_id': ObjectId('611b35d1d68704776aa7146a'), 'color': 'blue', 'value': '#00f'}\n",
      "{'_id': ObjectId('611b35d1d68704776aa7146b'), 'color': 'cyan', 'value': '#0ff'}\n",
      "{'_id': ObjectId('611b35d1d68704776aa7146c'), 'color': 'magenta', 'value': '#f0f'}\n",
      "{'_id': ObjectId('611b35d1d68704776aa7146d'), 'color': 'yellow', 'value': '#ff0'}\n",
      "{'_id': ObjectId('611b35d1d68704776aa7146e'), 'color': 'black', 'value': '#000'}\n"
     ]
    }
   ],
   "source": [
    "for item in colorInfo.find():\n",
    "    print(item)"
   ]
  },
  {
   "cell_type": "code",
   "execution_count": 10,
   "id": "b4e8cc10-8cbf-4836-bf7a-7919cf8bced1",
   "metadata": {},
   "outputs": [],
   "source": [
    "colorDB = pd.DataFrame(list(colorInfo.find()))"
   ]
  },
  {
   "cell_type": "code",
   "execution_count": 11,
   "id": "fe21ac8d-0f76-4c93-a0a6-ad3108b130dc",
   "metadata": {},
   "outputs": [
    {
     "data": {
      "text/html": [
       "<div>\n",
       "<style scoped>\n",
       "    .dataframe tbody tr th:only-of-type {\n",
       "        vertical-align: middle;\n",
       "    }\n",
       "\n",
       "    .dataframe tbody tr th {\n",
       "        vertical-align: top;\n",
       "    }\n",
       "\n",
       "    .dataframe thead th {\n",
       "        text-align: right;\n",
       "    }\n",
       "</style>\n",
       "<table border=\"1\" class=\"dataframe\">\n",
       "  <thead>\n",
       "    <tr style=\"text-align: right;\">\n",
       "      <th></th>\n",
       "      <th>_id</th>\n",
       "      <th>color</th>\n",
       "      <th>value</th>\n",
       "    </tr>\n",
       "  </thead>\n",
       "  <tbody>\n",
       "    <tr>\n",
       "      <th>0</th>\n",
       "      <td>611b35d1d68704776aa71468</td>\n",
       "      <td>red</td>\n",
       "      <td>#f00</td>\n",
       "    </tr>\n",
       "    <tr>\n",
       "      <th>1</th>\n",
       "      <td>611b35d1d68704776aa71469</td>\n",
       "      <td>green</td>\n",
       "      <td>#0f0</td>\n",
       "    </tr>\n",
       "    <tr>\n",
       "      <th>2</th>\n",
       "      <td>611b35d1d68704776aa7146a</td>\n",
       "      <td>blue</td>\n",
       "      <td>#00f</td>\n",
       "    </tr>\n",
       "    <tr>\n",
       "      <th>3</th>\n",
       "      <td>611b35d1d68704776aa7146b</td>\n",
       "      <td>cyan</td>\n",
       "      <td>#0ff</td>\n",
       "    </tr>\n",
       "    <tr>\n",
       "      <th>4</th>\n",
       "      <td>611b35d1d68704776aa7146c</td>\n",
       "      <td>magenta</td>\n",
       "      <td>#f0f</td>\n",
       "    </tr>\n",
       "    <tr>\n",
       "      <th>5</th>\n",
       "      <td>611b35d1d68704776aa7146d</td>\n",
       "      <td>yellow</td>\n",
       "      <td>#ff0</td>\n",
       "    </tr>\n",
       "    <tr>\n",
       "      <th>6</th>\n",
       "      <td>611b35d1d68704776aa7146e</td>\n",
       "      <td>black</td>\n",
       "      <td>#000</td>\n",
       "    </tr>\n",
       "  </tbody>\n",
       "</table>\n",
       "</div>"
      ],
      "text/plain": [
       "                        _id    color value\n",
       "0  611b35d1d68704776aa71468      red  #f00\n",
       "1  611b35d1d68704776aa71469    green  #0f0\n",
       "2  611b35d1d68704776aa7146a     blue  #00f\n",
       "3  611b35d1d68704776aa7146b     cyan  #0ff\n",
       "4  611b35d1d68704776aa7146c  magenta  #f0f\n",
       "5  611b35d1d68704776aa7146d   yellow  #ff0\n",
       "6  611b35d1d68704776aa7146e    black  #000"
      ]
     },
     "execution_count": 11,
     "metadata": {},
     "output_type": "execute_result"
    }
   ],
   "source": [
    "colorDB"
   ]
  },
  {
   "cell_type": "code",
   "execution_count": null,
   "id": "eb72d3df-9bcb-44f0-8bec-f08b90bd1089",
   "metadata": {},
   "outputs": [],
   "source": []
  }
 ],
 "metadata": {
  "kernelspec": {
   "display_name": "Python 3",
   "language": "python",
   "name": "python3"
  },
  "language_info": {
   "codemirror_mode": {
    "name": "ipython",
    "version": 3
   },
   "file_extension": ".py",
   "mimetype": "text/x-python",
   "name": "python",
   "nbconvert_exporter": "python",
   "pygments_lexer": "ipython3",
   "version": "3.8.8"
  }
 },
 "nbformat": 4,
 "nbformat_minor": 5
}
