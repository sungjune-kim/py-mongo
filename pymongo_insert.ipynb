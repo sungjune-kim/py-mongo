{
 "cells": [
  {
   "cell_type": "code",
   "execution_count": 1,
   "metadata": {},
   "outputs": [],
   "source": [
    "from pymongo import MongoClient\n",
    "client = MongoClient('localhost',27017)"
   ]
  },
  {
   "cell_type": "code",
   "execution_count": 2,
   "metadata": {},
   "outputs": [
    {
     "name": "stdout",
     "output_type": "stream",
     "text": [
      "['admin', 'config', 'local', 'shop']\n"
     ]
    }
   ],
   "source": [
    "print(client.list_database_names())"
   ]
  },
  {
   "cell_type": "code",
   "execution_count": 5,
   "metadata": {},
   "outputs": [],
   "source": [
    "mydb = client[\"Human_Resource\"]"
   ]
  },
  {
   "cell_type": "code",
   "execution_count": 8,
   "metadata": {},
   "outputs": [],
   "source": [
    "mycol = mydb[\"info\"]"
   ]
  },
  {
   "cell_type": "code",
   "execution_count": 22,
   "metadata": {},
   "outputs": [],
   "source": [
    "mylist = [\n",
    "    {\"_id\":1,\"name\":\"James\", \"age\":34, \"addr\":\"Los Angeles\"},\n",
    "    {\"_id\":2,\"name\":\"Kylian\", \"age\":23, \"addr\":\"New York\"},\n",
    "    {\"_id\":3,\"name\":\"Julia\", \"age\":24, \"addr\":\"Kiev\"},\n",
    "    {\"_id\":4,\"name\":\"Graham\", \"age\":30, \"addr\":\"London\"},\n",
    "         ]"
   ]
  },
  {
   "cell_type": "code",
   "execution_count": 23,
   "metadata": {},
   "outputs": [],
   "source": [
    "x = mycol.insert_many(mylist)"
   ]
  },
  {
   "cell_type": "code",
   "execution_count": 24,
   "metadata": {},
   "outputs": [
    {
     "name": "stdout",
     "output_type": "stream",
     "text": [
      "{'_id': ObjectId('611a2c33b4296e670ffd5e8f'), 'name': 'James', 'age': 34, 'addr': 'Los Angeles'}\n",
      "{'_id': ObjectId('611a2cfab4296e670ffd5e90'), 'name': 'James', 'age': 34, 'addr': 'Los Angeles'}\n",
      "{'_id': ObjectId('611a2cfab4296e670ffd5e91'), 'name': 'Kylian', 'age': 23, 'addr': 'New York'}\n",
      "{'_id': ObjectId('611a2cfab4296e670ffd5e92'), 'name': 'Julia', 'age': 24, 'addr': 'Kiev'}\n",
      "{'_id': ObjectId('611a2cfab4296e670ffd5e93'), 'name': 'Graham', 'age': 30, 'addr': 'London'}\n",
      "{'_id': 1, 'name': 'James', 'age': 34, 'addr': 'Los Angeles'}\n",
      "{'_id': 2, 'name': 'Kylian', 'age': 23, 'addr': 'New York'}\n",
      "{'_id': 3, 'name': 'Julia', 'age': 24, 'addr': 'Kiev'}\n",
      "{'_id': 4, 'name': 'Graham', 'age': 30, 'addr': 'London'}\n"
     ]
    }
   ],
   "source": [
    "for i in mycol.find():\n",
    "    print(i)"
   ]
  },
  {
   "cell_type": "code",
   "execution_count": null,
   "metadata": {},
   "outputs": [],
   "source": []
  }
 ],
 "metadata": {
  "kernelspec": {
   "display_name": "Python 3",
   "language": "python",
   "name": "python3"
  },
  "language_info": {
   "codemirror_mode": {
    "name": "ipython",
    "version": 3
   },
   "file_extension": ".py",
   "mimetype": "text/x-python",
   "name": "python",
   "nbconvert_exporter": "python",
   "pygments_lexer": "ipython3",
   "version": "3.8.5"
  }
 },
 "nbformat": 4,
 "nbformat_minor": 4
}
